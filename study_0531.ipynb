{
 "cells": [
  {
   "cell_type": "code",
   "execution_count": 5,
   "id": "92fda9e8-05ec-4325-ad0b-fe7bb97f079f",
   "metadata": {},
   "outputs": [
    {
     "name": "stdout",
     "output_type": "stream",
     "text": [
      "fff\n",
      "fff\n",
      "fff\n",
      "fff\n",
      "fff\n",
      "fff\n",
      "fff\n",
      "fff\n",
      "fff\n"
     ]
    }
   ],
   "source": [
    "for i in range(1,10):\n",
    "    print(\"fff\")"
   ]
  }
 ],
 "metadata": {
  "kernelspec": {
   "display_name": "Python 3 (ipykernel)",
   "language": "python",
   "name": "python3"
  },
  "language_info": {
   "codemirror_mode": {
    "name": "ipython",
    "version": 3
   },
   "file_extension": ".py",
   "mimetype": "text/x-python",
   "name": "python",
   "nbconvert_exporter": "python",
   "pygments_lexer": "ipython3",
   "version": "3.11.7"
  }
 },
 "nbformat": 4,
 "nbformat_minor": 5
}
