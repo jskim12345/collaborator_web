{
 "cells": [
  {
   "cell_type": "markdown",
   "id": "72a41662-7103-488a-8b69-c0416aa86b0e",
   "metadata": {},
   "source": [
    "크롤링-논문"
   ]
  },
  {
   "cell_type": "code",
   "execution_count": 1,
   "id": "36dd609d-8b0a-4f51-af17-7849b2eb987b",
   "metadata": {},
   "outputs": [
    {
     "ename": "SyntaxError",
     "evalue": "invalid syntax (1899589601.py, line 21)",
     "output_type": "error",
     "traceback": [
      "\u001b[1;36m  Cell \u001b[1;32mIn[1], line 21\u001b[1;36m\u001b[0m\n\u001b[1;33m    class=\"MgUUmf NUnG9d\"\u001b[0m\n\u001b[1;37m         ^\u001b[0m\n\u001b[1;31mSyntaxError\u001b[0m\u001b[1;31m:\u001b[0m invalid syntax\n"
     ]
    }
   ],
   "source": [
    "from datetime import datetime \n",
    "from bs4 import BeautifulSoup\n",
    "import requests\n",
    "import pandas as pd\n",
    "import time\n",
    "import random\n",
    "\n",
    "yyyy=datetime.today().year\n",
    "keyword = 'education'  #키워드값\n",
    "ylo = yyyy-2\n",
    "yhi = yyyy\n",
    "start = 0\n",
    "\n",
    "result = pd.DataFrame(columns=['joureal','publish_year','auther','title','url'])\n",
    "                        \n",
    "for start in range(0,6):\n",
    "    time.sleep(random.randint(1,5))\n",
    "    url = f'https://scholar.google.co.kr/scholar?start={start}&q={keyword}&hl=ko&as_sdt=0,5&as_ylo={ylo}&as_yhi={yhi}'\n",
    "    content = requests.get(url).content\n",
    "    soup = BeautifulSoup(content, 'html.parser')\n",
    "    class=\"MgUUmf NUnG9d\"\n",
    "    title_url=[[s.text, s.select('a')[0]['href']] for s in soup.select('h3.gs_rt')]\n",
    "    auther = [s.text.replace('\\xa0', ' ').split(' - ')[0] for s in soup.select('div.gs_a')]\n",
    "    etc = [is_year(s) for s in soup.select('div.gs_a')]\n",
    "    \n",
    "    res_temp = pd.DataFrame(etc, columns=['joureal', 'publish_year'])\n",
    "    res_temp['auther'] = auther\n",
    "    res_temp2 = pd.DataFrame(title_url, columns=['title', 'url'])\n",
    "    res_temp = pd.concat([res_temp, res_temp2], axis=1)\n",
    "    result = pd.concat([result, res_temp], axis=0)"
   ]
  },
  {
   "cell_type": "code",
   "execution_count": 95,
   "id": "92fda9e8-05ec-4325-ad0b-fe7bb97f079f",
   "metadata": {},
   "outputs": [
    {
     "data": {
      "text/plain": [
       "<!DOCTYPE html PUBLIC \"-//W3C//DTD HTML 4.01 Transitional//EN\">\n",
       "\n",
       "<html dir=\"LTR\">\n",
       "<head><meta content=\"text/html; charset=utf-8\" http-equiv=\"content-type\"/><meta content=\"initial-scale=1\" name=\"viewport\"/><title>https://scholar.google.co.kr/scholar?start=5&amp;q=education&amp;hl=ko&amp;as_sdt=0,5&amp;as_ylo=2022&amp;as_yhi=2024</title></head>\n",
       "<body onload=\"e=document.getElementById('captcha');if(e){e.focus();} if(solveSimpleChallenge) {solveSimpleChallenge(,);}\" style=\"font-family: arial, sans-serif; background-color: #fff; color: #000; padding:20px; font-size:18px; overscroll-behavior:contain;\">\n",
       "<div style=\"max-width:400px;\">\n",
       "<hr noshade=\"\" size=\"1\" style=\"color:#ccc; background-color:#ccc;\"/><br/>\n",
       "<form action=\"index\" id=\"captcha-form\" method=\"post\">\n",
       "<noscript>\n",
       "<div style=\"font-size:13px;\">\n",
       "계속하려면 웹브라우저에서 자바스크립트를 사용 설정해 주세요.\n",
       "</div>\n",
       "</noscript>\n",
       "<script async=\"\" defer=\"\" src=\"https://www.google.com/recaptcha/api.js\"></script>\n",
       "<script>var submitCallback = function(response) {document.getElementById('captcha-form').submit();};</script>\n",
       "<div class=\"g-recaptcha\" data-callback=\"submitCallback\" data-s=\"zkR5KcHIhKE6yrArvwImtQo6wtXHARKKJUrex5DNr3aknqVszchnYAIAltAYuOnBfJWCEOcetvdgUgHADRtyUrn3VE9p6csbbGAK0D2f-q16yceh05UlEWRMjvpfhzHQPeIPToZ6jaVPIMoQ9lDCtJibm3uJUYg6w6KHwLFN5RcEac6cTMdq14xurEopguhfwQW8diC3pRbqN0dho9ueRc01qOuvQUKlb9V3F4qnM8MGj9iI-Jaqvm_UTm4NkkQcT6jm4No9XM3LL5A-7QKvBRLm\" data-sitekey=\"6LfwuyUTAAAAAOAmoS0fdqijC2PbbdH4kjq62Y1b\" id=\"recaptcha\"></div>\n",
       "<input name=\"q\" type=\"hidden\" value=\"EgR5jKzDGKTH5LIGIiyK1CTo_vV3BHF-32GcKQu9Quh2GvBAucbH70HlWZfdyCPCWvJOf9HwjXHqWjIBcloBQw\"/><input name=\"continue\" type=\"hidden\" value=\"https://scholar.google.co.kr/scholar?start=5&amp;q=education&amp;hl=ko&amp;as_sdt=0,5&amp;as_ylo=2022&amp;as_yhi=2024\"/>\n",
       "</form>\n",
       "<hr noshade=\"\" size=\"1\" style=\"color:#ccc; background-color:#ccc;\"/>\n",
       "<div style=\"font-size:13px;\">\n",
       "<b>페이지 정보</b><br/><br/>\n",
       "\n",
       "Google의 시스템이 컴퓨터 네트워크에서 비정상적인 트래픽을 감지했습니다. 이 페이지는 로봇이 아니라 실제 사용자가 요청을 보내고 있는지를 확인하는 페이지입니다. <a href=\"#\" onclick=\"document.getElementById('infoDiv').style.display='block';\">왜 이런 현상이 발생하는 거죠?</a><br/><br/>\n",
       "<div id=\"infoDiv\" style=\"display:none; background-color:#eee; padding:10px; margin:0 0 15px 0; line-height:1.4em;\">\n",
       "해당 페이지는 Google이 자동으로 사용자의 컴퓨터 네트워크에서 <a href=\"//www.google.com/policies/terms/\">서비스 약관</a>을 위배하는 것으로 보이는 요청을 감지했을 때 표시됩니다. 요청이 중지되면 곧 차단이 해제됩니다. 그 전에 위의 보안문자를 입력하면 Google 서비스를 계속 사용할 수 있습니다. <br/><br/>비정상적인 트래픽은 자동으로 요청을 전송하는 악성 소프트웨어, 브라우저 플러그인 또는 스크립트에 의해 전송될 수 있습니다. 네트워크 연결을 공유하고 있다면 관리자에게 문의하여 동일한 IP주소를 사용하는 다른 컴퓨터에 문제가 있는지 확인하세요. <a href=\"//support.google.com/websearch/answer/86640\">자세히 알아보기</a><br/><br/>로봇이 사용한다고 알려진 고급 검색어를 사용하거나 요청을 매우 빠르게 전송하면  보안문자를 입력하도록 요청받을 수 있습니다.\n",
       "\n",
       "</div><br/>\n",
       "IP주소: 121.140.172.195<br/>시간: 2024-05-31T01:11:01Z<br/>URL: https://scholar.google.co.kr/scholar?start=5&amp;q=education&amp;hl=ko&amp;as_sdt=0,5&amp;as_ylo=2022&amp;as_yhi=2024<br/>\n",
       "</div></div>\n",
       "</body>\n",
       "</html>"
      ]
     },
     "execution_count": 95,
     "metadata": {},
     "output_type": "execute_result"
    }
   ],
   "source": [
    "soup.select(div"
   ]
  },
  {
   "cell_type": "code",
   "execution_count": 78,
   "id": "d52fcccc-d238-4117-b235-2f0328d00802",
   "metadata": {},
   "outputs": [
    {
     "data": {
      "text/plain": [
       "['The opportunities and challenges of ChatGPT in education',\n",
       " 'State of the art and practice in AI in education',\n",
       " '[HTML][HTML] What Is “Education”?',\n",
       " 'Metaverse in education: Vision, opportunities, and challenges',\n",
       " '[책][B] The education of man: Aphorisms',\n",
       " '[책][B] Education and the Law',\n",
       " '[책][B] A comprehensive study of education',\n",
       " '[HTML][HTML] The impact of ChatGPT on higher education',\n",
       " '[책][B] Introduction to education studies',\n",
       " '[책][B] Handbook of the economics of education']"
      ]
     },
     "execution_count": 78,
     "metadata": {},
     "output_type": "execute_result"
    }
   ],
   "source": [
    "title"
   ]
  },
  {
   "cell_type": "code",
   "execution_count": 79,
   "id": "7d3636c3-deac-49ee-bc12-9dd08bf8e958",
   "metadata": {},
   "outputs": [
    {
     "data": {
      "text/plain": [
       "'https://scholar.google.co.kr/scholar?start=0&q=education&hl=ko&as_sdt=0,5&as_ylo=2022&as_yhi=2024'"
      ]
     },
     "execution_count": 79,
     "metadata": {},
     "output_type": "execute_result"
    }
   ],
   "source": [
    "url"
   ]
  },
  {
   "cell_type": "code",
   "execution_count": 80,
   "id": "cae9bad7-7bb9-4aef-b127-cdf5dcabebe8",
   "metadata": {},
   "outputs": [
    {
     "data": {
      "text/plain": [
       "[['The opportunities and challenges of ChatGPT in education',\n",
       "  'https://www.tandfonline.com/doi/abs/10.1080/10494820.2023.2253858'],\n",
       " ['State of the art and practice in AI in education',\n",
       "  'https://onlinelibrary.wiley.com/doi/abs/10.1111/ejed.12533'],\n",
       " ['[HTML][HTML] What Is “Education”?',\n",
       "  'https://link.springer.com/chapter/10.1007/978-3-030-83925-3_3'],\n",
       " ['Metaverse in education: Vision, opportunities, and challenges',\n",
       "  'https://ieeexplore.ieee.org/abstract/document/10021004/'],\n",
       " ['[책][B] The education of man: Aphorisms',\n",
       "  'https://books.google.co.kr/books?hl=ko&lr=&id=Fpt8EAAAQBAJ&oi=fnd&pg=PT2&dq=education&ots=AORv8wbHg-&sig=fIg-ylfnCDbX1SYWtdN9t8DA1SM'],\n",
       " ['[책][B] Education and the Law',\n",
       "  'https://books.google.co.kr/books?hl=ko&lr=&id=Lm7XEAAAQBAJ&oi=fnd&pg=PR5&dq=education&ots=cLczXBBQxZ&sig=HRld8DuI9n5qGoTee3FNQL-LmaQ'],\n",
       " ['[책][B] A comprehensive study of education',\n",
       "  'https://books.google.co.kr/books?hl=ko&lr=&id=DNyLEAAAQBAJ&oi=fnd&pg=PP1&dq=education&ots=2igWlNKpVM&sig=-htCm6wSfJ_sodVxFnQlh6e6KjA'],\n",
       " ['[HTML][HTML] The impact of ChatGPT on higher education',\n",
       "  'https://www.frontiersin.org/articles/10.3389/feduc.2023.1206936/full'],\n",
       " ['[책][B] Introduction to education studies',\n",
       "  'https://books.google.co.kr/books?hl=ko&lr=&id=6FgDEQAAQBAJ&oi=fnd&pg=PP1&dq=education&ots=D_qYfWCA21&sig=Z9QvrNc5v4rL4tboM2NqyKX_AEs'],\n",
       " ['[책][B] Handbook of the economics of education',\n",
       "  'https://books.google.co.kr/books?hl=ko&lr=&id=KgCoEAAAQBAJ&oi=fnd&pg=PP1&dq=education&ots=Hsme_uil4I&sig=gVFzrDGeNB_2B8BQ1DyC3GDwqq4']]"
      ]
     },
     "execution_count": 80,
     "metadata": {},
     "output_type": "execute_result"
    }
   ],
   "source": [
    "title_url"
   ]
  },
  {
   "cell_type": "code",
   "execution_count": 81,
   "id": "ab0f34e7-f8c4-4607-b9a2-b34a8059f782",
   "metadata": {},
   "outputs": [
    {
     "data": {
      "text/plain": [
       "2024"
      ]
     },
     "execution_count": 81,
     "metadata": {},
     "output_type": "execute_result"
    }
   ],
   "source": [
    "yyyy"
   ]
  },
  {
   "cell_type": "code",
   "execution_count": null,
   "id": "a64bf94a-ae8f-49f3-b7d9-4e4b49592ff3",
   "metadata": {},
   "outputs": [],
   "source": []
  },
  {
   "cell_type": "code",
   "execution_count": 102,
   "id": "f0d812d8-ed9a-4625-b7a4-ada5ef5b3efd",
   "metadata": {},
   "outputs": [
    {
     "ename": "SyntaxError",
     "evalue": "unterminated string literal (detected at line 4) (2050198271.py, line 4)",
     "output_type": "error",
     "traceback": [
      "\u001b[1;36m  Cell \u001b[1;32mIn[102], line 4\u001b[1;36m\u001b[0m\n\u001b[1;33m    url = f'https://www.google.com/search?q={serarch}&sca_esv=1814fa2a4600643d&tbas=0&tbs=qdr:m&tbm=nws&ei=rE3pZeLxNeHX1e8PpdOcMA&start={page}&sa=N&ved=2ahUKEwji9-zrsuGEAxXha_UHHaUpBwYQ8tMDegQIBBAE&biw=2560&bih=1313&dpr=1\u001b[0m\n\u001b[1;37m          ^\u001b[0m\n\u001b[1;31mSyntaxError\u001b[0m\u001b[1;31m:\u001b[0m unterminated string literal (detected at line 4)\n"
     ]
    }
   ],
   "source": [
    "\n",
    "serarch = '아마존닷컴'\n",
    "page = 0\n",
    "\n",
    "url = f'https://www.google.com/search?q={serarch}&sca_esv=1814fa2a4600643d&tbas=0&tbs=qdr:m&tbm=nws&ei=rE3pZeLxNeHX1e8PpdOcMA&start={page}&sa=N&ved=2ahUKEwji9-zrsuGEAxXha_UHHaUpBwYQ8tMDegQIBBAE&biw=2560&bih=1313&dpr=1"
   ]
  },
  {
   "cell_type": "code",
   "execution_count": 103,
   "id": "1e6e4c34-8c05-4edc-80f0-bbc00a8d6f0e",
   "metadata": {},
   "outputs": [
    {
     "ename": "NameError",
     "evalue": "name 'driver' is not defined",
     "output_type": "error",
     "traceback": [
      "\u001b[1;31m---------------------------------------------------------------------------\u001b[0m",
      "\u001b[1;31mArticleException\u001b[0m                          Traceback (most recent call last)",
      "Cell \u001b[1;32mIn[103], line 27\u001b[0m\n\u001b[0;32m     26\u001b[0m article\u001b[38;5;241m.\u001b[39mdownload()\n\u001b[1;32m---> 27\u001b[0m article\u001b[38;5;241m.\u001b[39mparse()    \n\u001b[0;32m     28\u001b[0m news_article \u001b[38;5;241m=\u001b[39m article\u001b[38;5;241m.\u001b[39mtext\n",
      "File \u001b[1;32m~\\AppData\\Roaming\\Python\\Python311\\site-packages\\newspaper\\article.py:191\u001b[0m, in \u001b[0;36mArticle.parse\u001b[1;34m(self)\u001b[0m\n\u001b[0;32m    190\u001b[0m \u001b[38;5;28;01mdef\u001b[39;00m \u001b[38;5;21mparse\u001b[39m(\u001b[38;5;28mself\u001b[39m):\n\u001b[1;32m--> 191\u001b[0m     \u001b[38;5;28mself\u001b[39m\u001b[38;5;241m.\u001b[39mthrow_if_not_downloaded_verbose()\n\u001b[0;32m    193\u001b[0m     \u001b[38;5;28mself\u001b[39m\u001b[38;5;241m.\u001b[39mdoc \u001b[38;5;241m=\u001b[39m \u001b[38;5;28mself\u001b[39m\u001b[38;5;241m.\u001b[39mconfig\u001b[38;5;241m.\u001b[39mget_parser()\u001b[38;5;241m.\u001b[39mfromstring(\u001b[38;5;28mself\u001b[39m\u001b[38;5;241m.\u001b[39mhtml)\n",
      "File \u001b[1;32m~\\AppData\\Roaming\\Python\\Python311\\site-packages\\newspaper\\article.py:531\u001b[0m, in \u001b[0;36mArticle.throw_if_not_downloaded_verbose\u001b[1;34m(self)\u001b[0m\n\u001b[0;32m    530\u001b[0m \u001b[38;5;28;01melif\u001b[39;00m \u001b[38;5;28mself\u001b[39m\u001b[38;5;241m.\u001b[39mdownload_state \u001b[38;5;241m==\u001b[39m ArticleDownloadState\u001b[38;5;241m.\u001b[39mFAILED_RESPONSE:\n\u001b[1;32m--> 531\u001b[0m     \u001b[38;5;28;01mraise\u001b[39;00m ArticleException(\u001b[38;5;124m'\u001b[39m\u001b[38;5;124mArticle `download()` failed with \u001b[39m\u001b[38;5;132;01m%s\u001b[39;00m\u001b[38;5;124m on URL \u001b[39m\u001b[38;5;132;01m%s\u001b[39;00m\u001b[38;5;124m'\u001b[39m \u001b[38;5;241m%\u001b[39m\n\u001b[0;32m    532\u001b[0m           (\u001b[38;5;28mself\u001b[39m\u001b[38;5;241m.\u001b[39mdownload_exception_msg, \u001b[38;5;28mself\u001b[39m\u001b[38;5;241m.\u001b[39murl))\n",
      "\u001b[1;31mArticleException\u001b[0m: Article `download()` failed with HTTPSConnectionPool(host='m.itooza.com', port=443): Max retries exceeded with url: /view.php?ud=2024051309180043832 (Caused by SSLError(SSLCertVerificationError(1, '[SSL: CERTIFICATE_VERIFY_FAILED] certificate verify failed: unable to get local issuer certificate (_ssl.c:1006)'))) on URL https://m.itooza.com/view.php?ud=2024051309180043832",
      "\nDuring handling of the above exception, another exception occurred:\n",
      "\u001b[1;31mNameError\u001b[0m                                 Traceback (most recent call last)",
      "Cell \u001b[1;32mIn[103], line 30\u001b[0m\n\u001b[0;32m     28\u001b[0m     news_article \u001b[38;5;241m=\u001b[39m article\u001b[38;5;241m.\u001b[39mtext\n\u001b[0;32m     29\u001b[0m \u001b[38;5;28;01mexcept\u001b[39;00m:  \u001b[38;5;66;03m# ssl error\u001b[39;00m\n\u001b[1;32m---> 30\u001b[0m     driver\u001b[38;5;241m.\u001b[39mget(news_url)\n\u001b[0;32m     31\u001b[0m     article\u001b[38;5;241m.\u001b[39mdownload(input_html\u001b[38;5;241m=\u001b[39mdriver\u001b[38;5;241m.\u001b[39mpage_source)\n\u001b[0;32m     32\u001b[0m     article\u001b[38;5;241m.\u001b[39mparse()\n",
      "\u001b[1;31mNameError\u001b[0m: name 'driver' is not defined"
     ]
    }
   ],
   "source": [
    "keyword = '아마존닷컴'\n",
    "page_num = 0\n",
    "\n",
    "while 1:\n",
    "    # google news crawling\n",
    "    url = f'https://www.google.com/search?q={keyword}&sca_esv=1814fa2a4600643d&tbas=0&tbs=qdr:m&tbm=nws&ei=rE3pZeLxNeHX1e8PpdOcMA&start={page_num}&sa=N&ved=2ahUKEwji9-zrsuGEAxXha_UHHaUpBwYQ8tMDegQIBBAE&biw=2560&bih=1313&dpr=1'\n",
    "    req = requests.get(url)\n",
    "    content = req.content\n",
    "    soup = BeautifulSoup(content, 'html.parser')\n",
    "\n",
    "    # last page check\n",
    "    if soup.select('div.BNeawe.vvjwJb') == []: break\n",
    "\n",
    "    title_list = [t.text for t in soup.select('div.BNeawe.vvjwJb')]  # title\n",
    "    url_list = []\n",
    "\n",
    "    # url\n",
    "    for u in soup.select('a'):\n",
    "        for t in title_list:\n",
    "            if t in u.text:\n",
    "                temp_url = urllib.parse.unquote(u['href'])\n",
    "                temp_url = re.findall('http\\S+&sa',temp_url)[0][:-3]\n",
    "                url_list.append(temp_url)\n",
    "\n",
    "    # article\n",
    "    for ind, news_url in enumerate(url_list):\n",
    "        try:\n",
    "            article = Article(url=news_url)\n",
    "            article.download()\n",
    "            article.parse()    \n",
    "            news_article = article.text\n",
    "        except:  # ssl error\n",
    "            driver.get(news_url)\n",
    "            article.download(input_html=driver.page_source)\n",
    "            article.parse()\n",
    "            news_article = article.text\n",
    "\n",
    "        news_df = pd.concat([news_df, pd.DataFrame([[title_list[ind], news_article, news_url]])])\n",
    "    \n",
    "    news_df[0] = news_df[0].apply(lambda x: re.sub('\\s+',' ',x))\n",
    "    news_df = news_df.reset_index(drop=True)\n",
    "\n",
    "    page_num += 10\n",
    "    news_df.to_excel('news_crawling.xlsx', index=False)\n",
    "\n",
    "news_df.columns = ['제목','본문','URL']"
   ]
  },
  {
   "cell_type": "code",
   "execution_count": 111,
   "id": "3607129c-b516-4a0c-a3fa-a7db2279711f",
   "metadata": {},
   "outputs": [
    {
     "ename": "IndentationError",
     "evalue": "unexpected indent (1132711275.py, line 6)",
     "output_type": "error",
     "traceback": [
      "\u001b[1;36m  Cell \u001b[1;32mIn[111], line 6\u001b[1;36m\u001b[0m\n\u001b[1;33m    url = f'https://www.google.com/search?q={keyword}&sca_esv=986cfd32cb66a37f&sca_upv=1&hl=ko&tbm=nws&prmd=nvisbmz&ei=-ipZZtWnAqjl1e8PldabQA&start={page_num}&sa=N&ved=2ahUKEwjVjJfA4baGAxWocvUHHRXrBggQ8tMDegQIBBAE&biw=1536&bih=756&dpr=1.25'\u001b[0m\n\u001b[1;37m    ^\u001b[0m\n\u001b[1;31mIndentationError\u001b[0m\u001b[1;31m:\u001b[0m unexpected indent\n"
     ]
    }
   ],
   "source": [
    "keyword = '아마존닷컴'\n",
    "page_num = 0\n",
    "news_df = pd.DataFrame()\n",
    "\n",
    "    # google news crawling\n",
    "    url = f'https://www.google.com/search?q={keyword}&sca_esv=986cfd32cb66a37f&sca_upv=1&hl=ko&tbm=nws&prmd=nvisbmz&ei=-ipZZtWnAqjl1e8PldabQA&start={page_num}&sa=N&ved=2ahUKEwjVjJfA4baGAxWocvUHHRXrBggQ8tMDegQIBBAE&biw=1536&bih=756&dpr=1.25'\n",
    "    content = req.content\n",
    "    soup = BeautifulSoup(content, 'html.parser')\n",
    "print(url)"
   ]
  },
  {
   "cell_type": "code",
   "execution_count": 108,
   "id": "70e67a66-df32-41ca-8757-0127727304f7",
   "metadata": {},
   "outputs": [],
   "source": [
    "url= 'https://www.google.com/search?sca_esv=986cfd32cb66a37f&sca_upv=1&hl=ko&q=%EA%B5%AC%EA%B8%80%EB%89%B4%EC%8A%A4&tbm=nws&source=lnms&prmd=nvisbmz&sa=X&ved=2ahUKEwiP7sC-4baGAxXCkq8BHXXXAsgQ0pQJegQIDhAB&biw=1536&bih=756&dpr=1.25'"
   ]
  },
  {
   "cell_type": "code",
   "execution_count": 113,
   "id": "3a1e26a9-6168-4147-98a9-91325705ec52",
   "metadata": {},
   "outputs": [
    {
     "ename": "SelectorSyntaxError",
     "evalue": "Invalid character '&' position 7\n  line 1:\nhttp\\S+&sa\n       ^",
     "output_type": "error",
     "traceback": [
      "\u001b[1;31m---------------------------------------------------------------------------\u001b[0m",
      "\u001b[1;31mSelectorSyntaxError\u001b[0m                       Traceback (most recent call last)",
      "Cell \u001b[1;32mIn[113], line 1\u001b[0m\n\u001b[1;32m----> 1\u001b[0m [s[\u001b[38;5;124m'\u001b[39m\u001b[38;5;124mhref\u001b[39m\u001b[38;5;124m'\u001b[39m] \u001b[38;5;28;01mfor\u001b[39;00m s \u001b[38;5;129;01min\u001b[39;00m soup\u001b[38;5;241m.\u001b[39mselect(\u001b[38;5;124m'\u001b[39m\u001b[38;5;124mhttp\u001b[39m\u001b[38;5;124m\\\u001b[39m\u001b[38;5;124mS+&sa\u001b[39m\u001b[38;5;124m'\u001b[39m)]\n",
      "File \u001b[1;32mC:\\ProgramData\\anaconda3\\Lib\\site-packages\\bs4\\element.py:2111\u001b[0m, in \u001b[0;36mTag.select\u001b[1;34m(self, selector, namespaces, limit, **kwargs)\u001b[0m\n\u001b[0;32m   2091\u001b[0m \u001b[38;5;28;01mdef\u001b[39;00m \u001b[38;5;21mselect\u001b[39m(\u001b[38;5;28mself\u001b[39m, selector, namespaces\u001b[38;5;241m=\u001b[39m\u001b[38;5;28;01mNone\u001b[39;00m, limit\u001b[38;5;241m=\u001b[39m\u001b[38;5;28;01mNone\u001b[39;00m, \u001b[38;5;241m*\u001b[39m\u001b[38;5;241m*\u001b[39mkwargs):\n\u001b[0;32m   2092\u001b[0m \u001b[38;5;250m    \u001b[39m\u001b[38;5;124;03m\"\"\"Perform a CSS selection operation on the current element.\u001b[39;00m\n\u001b[0;32m   2093\u001b[0m \n\u001b[0;32m   2094\u001b[0m \u001b[38;5;124;03m    This uses the SoupSieve library.\u001b[39;00m\n\u001b[1;32m   (...)\u001b[0m\n\u001b[0;32m   2109\u001b[0m \u001b[38;5;124;03m    :rtype: bs4.element.ResultSet\u001b[39;00m\n\u001b[0;32m   2110\u001b[0m \u001b[38;5;124;03m    \"\"\"\u001b[39;00m\n\u001b[1;32m-> 2111\u001b[0m     \u001b[38;5;28;01mreturn\u001b[39;00m \u001b[38;5;28mself\u001b[39m\u001b[38;5;241m.\u001b[39mcss\u001b[38;5;241m.\u001b[39mselect(selector, namespaces, limit, \u001b[38;5;241m*\u001b[39m\u001b[38;5;241m*\u001b[39mkwargs)\n",
      "File \u001b[1;32mC:\\ProgramData\\anaconda3\\Lib\\site-packages\\bs4\\css.py:162\u001b[0m, in \u001b[0;36mCSS.select\u001b[1;34m(self, select, namespaces, limit, flags, **kwargs)\u001b[0m\n\u001b[0;32m    158\u001b[0m \u001b[38;5;28;01mif\u001b[39;00m limit \u001b[38;5;129;01mis\u001b[39;00m \u001b[38;5;28;01mNone\u001b[39;00m:\n\u001b[0;32m    159\u001b[0m     limit \u001b[38;5;241m=\u001b[39m \u001b[38;5;241m0\u001b[39m\n\u001b[0;32m    161\u001b[0m \u001b[38;5;28;01mreturn\u001b[39;00m \u001b[38;5;28mself\u001b[39m\u001b[38;5;241m.\u001b[39m_rs(\n\u001b[1;32m--> 162\u001b[0m     \u001b[38;5;28mself\u001b[39m\u001b[38;5;241m.\u001b[39mapi\u001b[38;5;241m.\u001b[39mselect(\n\u001b[0;32m    163\u001b[0m         select, \u001b[38;5;28mself\u001b[39m\u001b[38;5;241m.\u001b[39mtag, \u001b[38;5;28mself\u001b[39m\u001b[38;5;241m.\u001b[39m_ns(namespaces, select), limit, flags,\n\u001b[0;32m    164\u001b[0m         \u001b[38;5;241m*\u001b[39m\u001b[38;5;241m*\u001b[39mkwargs\n\u001b[0;32m    165\u001b[0m     )\n\u001b[0;32m    166\u001b[0m )\n",
      "File \u001b[1;32mC:\\ProgramData\\anaconda3\\Lib\\site-packages\\soupsieve\\__init__.py:147\u001b[0m, in \u001b[0;36mselect\u001b[1;34m(select, tag, namespaces, limit, flags, custom, **kwargs)\u001b[0m\n\u001b[0;32m    135\u001b[0m \u001b[38;5;28;01mdef\u001b[39;00m \u001b[38;5;21mselect\u001b[39m(\n\u001b[0;32m    136\u001b[0m     select: \u001b[38;5;28mstr\u001b[39m,\n\u001b[0;32m    137\u001b[0m     tag: bs4\u001b[38;5;241m.\u001b[39mTag,\n\u001b[1;32m   (...)\u001b[0m\n\u001b[0;32m    143\u001b[0m     \u001b[38;5;241m*\u001b[39m\u001b[38;5;241m*\u001b[39mkwargs: Any\n\u001b[0;32m    144\u001b[0m ) \u001b[38;5;241m-\u001b[39m\u001b[38;5;241m>\u001b[39m \u001b[38;5;28mlist\u001b[39m[bs4\u001b[38;5;241m.\u001b[39mTag]:\n\u001b[0;32m    145\u001b[0m \u001b[38;5;250m    \u001b[39m\u001b[38;5;124;03m\"\"\"Select the specified tags.\"\"\"\u001b[39;00m\n\u001b[1;32m--> 147\u001b[0m     \u001b[38;5;28;01mreturn\u001b[39;00m \u001b[38;5;28mcompile\u001b[39m(select, namespaces, flags, \u001b[38;5;241m*\u001b[39m\u001b[38;5;241m*\u001b[39mkwargs)\u001b[38;5;241m.\u001b[39mselect(tag, limit)\n",
      "File \u001b[1;32mC:\\ProgramData\\anaconda3\\Lib\\site-packages\\soupsieve\\__init__.py:65\u001b[0m, in \u001b[0;36mcompile\u001b[1;34m(pattern, namespaces, flags, custom, **kwargs)\u001b[0m\n\u001b[0;32m     62\u001b[0m         \u001b[38;5;28;01mraise\u001b[39;00m \u001b[38;5;167;01mValueError\u001b[39;00m(\u001b[38;5;124m\"\u001b[39m\u001b[38;5;124mCannot process \u001b[39m\u001b[38;5;124m'\u001b[39m\u001b[38;5;124mcustom\u001b[39m\u001b[38;5;124m'\u001b[39m\u001b[38;5;124m argument on a compiled selector list\u001b[39m\u001b[38;5;124m\"\u001b[39m)\n\u001b[0;32m     63\u001b[0m     \u001b[38;5;28;01mreturn\u001b[39;00m pattern\n\u001b[1;32m---> 65\u001b[0m \u001b[38;5;28;01mreturn\u001b[39;00m cp\u001b[38;5;241m.\u001b[39m_cached_css_compile(\n\u001b[0;32m     66\u001b[0m     pattern,\n\u001b[0;32m     67\u001b[0m     ct\u001b[38;5;241m.\u001b[39mNamespaces(namespaces) \u001b[38;5;28;01mif\u001b[39;00m namespaces \u001b[38;5;129;01mis\u001b[39;00m \u001b[38;5;129;01mnot\u001b[39;00m \u001b[38;5;28;01mNone\u001b[39;00m \u001b[38;5;28;01melse\u001b[39;00m namespaces,\n\u001b[0;32m     68\u001b[0m     ct\u001b[38;5;241m.\u001b[39mCustomSelectors(custom) \u001b[38;5;28;01mif\u001b[39;00m custom \u001b[38;5;129;01mis\u001b[39;00m \u001b[38;5;129;01mnot\u001b[39;00m \u001b[38;5;28;01mNone\u001b[39;00m \u001b[38;5;28;01melse\u001b[39;00m custom,\n\u001b[0;32m     69\u001b[0m     flags\n\u001b[0;32m     70\u001b[0m )\n",
      "File \u001b[1;32mC:\\ProgramData\\anaconda3\\Lib\\site-packages\\soupsieve\\css_parser.py:208\u001b[0m, in \u001b[0;36m_cached_css_compile\u001b[1;34m(pattern, namespaces, custom, flags)\u001b[0m\n\u001b[0;32m    199\u001b[0m \u001b[38;5;250m\u001b[39m\u001b[38;5;124;03m\"\"\"Cached CSS compile.\"\"\"\u001b[39;00m\n\u001b[0;32m    201\u001b[0m custom_selectors \u001b[38;5;241m=\u001b[39m process_custom(custom)\n\u001b[0;32m    202\u001b[0m \u001b[38;5;28;01mreturn\u001b[39;00m cm\u001b[38;5;241m.\u001b[39mSoupSieve(\n\u001b[0;32m    203\u001b[0m     pattern,\n\u001b[0;32m    204\u001b[0m     CSSParser(\n\u001b[0;32m    205\u001b[0m         pattern,\n\u001b[0;32m    206\u001b[0m         custom\u001b[38;5;241m=\u001b[39mcustom_selectors,\n\u001b[0;32m    207\u001b[0m         flags\u001b[38;5;241m=\u001b[39mflags\n\u001b[1;32m--> 208\u001b[0m     )\u001b[38;5;241m.\u001b[39mprocess_selectors(),\n\u001b[0;32m    209\u001b[0m     namespaces,\n\u001b[0;32m    210\u001b[0m     custom,\n\u001b[0;32m    211\u001b[0m     flags\n\u001b[0;32m    212\u001b[0m )\n",
      "File \u001b[1;32mC:\\ProgramData\\anaconda3\\Lib\\site-packages\\soupsieve\\css_parser.py:1129\u001b[0m, in \u001b[0;36mCSSParser.process_selectors\u001b[1;34m(self, index, flags)\u001b[0m\n\u001b[0;32m   1126\u001b[0m \u001b[38;5;28;01mdef\u001b[39;00m \u001b[38;5;21mprocess_selectors\u001b[39m(\u001b[38;5;28mself\u001b[39m, index: \u001b[38;5;28mint\u001b[39m \u001b[38;5;241m=\u001b[39m \u001b[38;5;241m0\u001b[39m, flags: \u001b[38;5;28mint\u001b[39m \u001b[38;5;241m=\u001b[39m \u001b[38;5;241m0\u001b[39m) \u001b[38;5;241m-\u001b[39m\u001b[38;5;241m>\u001b[39m ct\u001b[38;5;241m.\u001b[39mSelectorList:\n\u001b[0;32m   1127\u001b[0m \u001b[38;5;250m    \u001b[39m\u001b[38;5;124;03m\"\"\"Process selectors.\"\"\"\u001b[39;00m\n\u001b[1;32m-> 1129\u001b[0m     \u001b[38;5;28;01mreturn\u001b[39;00m \u001b[38;5;28mself\u001b[39m\u001b[38;5;241m.\u001b[39mparse_selectors(\u001b[38;5;28mself\u001b[39m\u001b[38;5;241m.\u001b[39mselector_iter(\u001b[38;5;28mself\u001b[39m\u001b[38;5;241m.\u001b[39mpattern), index, flags)\n",
      "File \u001b[1;32mC:\\ProgramData\\anaconda3\\Lib\\site-packages\\soupsieve\\css_parser.py:965\u001b[0m, in \u001b[0;36mCSSParser.parse_selectors\u001b[1;34m(self, iselector, index, flags)\u001b[0m\n\u001b[0;32m    963\u001b[0m \u001b[38;5;28;01mtry\u001b[39;00m:\n\u001b[0;32m    964\u001b[0m     \u001b[38;5;28;01mwhile\u001b[39;00m \u001b[38;5;28;01mTrue\u001b[39;00m:\n\u001b[1;32m--> 965\u001b[0m         key, m \u001b[38;5;241m=\u001b[39m \u001b[38;5;28mnext\u001b[39m(iselector)\n\u001b[0;32m    967\u001b[0m         \u001b[38;5;66;03m# Handle parts\u001b[39;00m\n\u001b[0;32m    968\u001b[0m         \u001b[38;5;28;01mif\u001b[39;00m key \u001b[38;5;241m==\u001b[39m \u001b[38;5;124m\"\u001b[39m\u001b[38;5;124mat_rule\u001b[39m\u001b[38;5;124m\"\u001b[39m:\n",
      "File \u001b[1;32mC:\\ProgramData\\anaconda3\\Lib\\site-packages\\soupsieve\\css_parser.py:1122\u001b[0m, in \u001b[0;36mCSSParser.selector_iter\u001b[1;34m(self, pattern)\u001b[0m\n\u001b[0;32m   1120\u001b[0m         \u001b[38;5;28;01melse\u001b[39;00m:\n\u001b[0;32m   1121\u001b[0m             msg \u001b[38;5;241m=\u001b[39m \u001b[38;5;124mf\u001b[39m\u001b[38;5;124m\"\u001b[39m\u001b[38;5;124mInvalid character \u001b[39m\u001b[38;5;132;01m{\u001b[39;00mc\u001b[38;5;132;01m!r}\u001b[39;00m\u001b[38;5;124m position \u001b[39m\u001b[38;5;132;01m{\u001b[39;00mindex\u001b[38;5;132;01m}\u001b[39;00m\u001b[38;5;124m\"\u001b[39m\n\u001b[1;32m-> 1122\u001b[0m         \u001b[38;5;28;01mraise\u001b[39;00m SelectorSyntaxError(msg, \u001b[38;5;28mself\u001b[39m\u001b[38;5;241m.\u001b[39mpattern, index)\n\u001b[0;32m   1123\u001b[0m \u001b[38;5;28;01mif\u001b[39;00m \u001b[38;5;28mself\u001b[39m\u001b[38;5;241m.\u001b[39mdebug:  \u001b[38;5;66;03m# pragma: no cover\u001b[39;00m\n\u001b[0;32m   1124\u001b[0m     \u001b[38;5;28mprint\u001b[39m(\u001b[38;5;124m'\u001b[39m\u001b[38;5;124m## END PARSING\u001b[39m\u001b[38;5;124m'\u001b[39m)\n",
      "\u001b[1;31mSelectorSyntaxError\u001b[0m: Invalid character '&' position 7\n  line 1:\nhttp\\S+&sa\n       ^"
     ]
    }
   ],
   "source": []
  },
  {
   "cell_type": "code",
   "execution_count": null,
   "id": "2a573188-0383-4392-a5f5-8fab0b08848a",
   "metadata": {},
   "outputs": [],
   "source": []
  }
 ],
 "metadata": {
  "kernelspec": {
   "display_name": "Python 3 (ipykernel)",
   "language": "python",
   "name": "python3"
  },
  "language_info": {
   "codemirror_mode": {
    "name": "ipython",
    "version": 3
   },
   "file_extension": ".py",
   "mimetype": "text/x-python",
   "name": "python",
   "nbconvert_exporter": "python",
   "pygments_lexer": "ipython3",
   "version": "3.11.7"
  }
 },
 "nbformat": 4,
 "nbformat_minor": 5
}
