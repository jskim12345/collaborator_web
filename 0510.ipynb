{
 "cells": [
  {
   "cell_type": "code",
   "execution_count": 1,
   "id": "48ba13ac-2173-4ee6-beec-d354893c4c3a",
   "metadata": {},
   "outputs": [
    {
     "data": {
      "text/plain": [
       "123"
      ]
     },
     "execution_count": 1,
     "metadata": {},
     "output_type": "execute_result"
    }
   ],
   "source": [
    "123"
   ]
  },
  {
   "cell_type": "code",
   "execution_count": 3,
   "id": "2d5f3e97-5224-4ea3-9e67-a98af2ea95fb",
   "metadata": {},
   "outputs": [
    {
     "name": "stdout",
     "output_type": "stream",
     "text": [
      "123\n"
     ]
    }
   ],
   "source": [
    "print(123)"
   ]
  },
  {
   "cell_type": "code",
   "execution_count": 4,
   "id": "2538374b-f0bd-45f9-b0f8-478fa54cf4a3",
   "metadata": {},
   "outputs": [
    {
     "data": {
      "text/plain": [
       "579"
      ]
     },
     "execution_count": 4,
     "metadata": {},
     "output_type": "execute_result"
    }
   ],
   "source": [
    "123+456"
   ]
  },
  {
   "cell_type": "code",
   "execution_count": 6,
   "id": "b4409376-0f76-4e12-9e34-7cfa02db2bb2",
   "metadata": {},
   "outputs": [
    {
     "data": {
      "text/plain": [
       "'0123'"
      ]
     },
     "execution_count": 6,
     "metadata": {},
     "output_type": "execute_result"
    }
   ],
   "source": [
    "'0123'"
   ]
  },
  {
   "cell_type": "code",
   "execution_count": 7,
   "id": "5160c46c-88f8-424f-b18e-6897fa8ad9e9",
   "metadata": {},
   "outputs": [
    {
     "data": {
      "text/plain": [
       "45.67"
      ]
     },
     "execution_count": 7,
     "metadata": {},
     "output_type": "execute_result"
    }
   ],
   "source": [
    "45.67"
   ]
  },
  {
   "cell_type": "code",
   "execution_count": 8,
   "id": "efe695b9-0011-4c56-8de9-a5b147134735",
   "metadata": {},
   "outputs": [
    {
     "data": {
      "text/plain": [
       "float"
      ]
     },
     "execution_count": 8,
     "metadata": {},
     "output_type": "execute_result"
    }
   ],
   "source": [
    "type(10.2)"
   ]
  },
  {
   "cell_type": "code",
   "execution_count": 10,
   "id": "5415c692-5916-4a98-b4f3-3f600ac30ece",
   "metadata": {},
   "outputs": [
    {
     "data": {
      "text/plain": [
       "int"
      ]
     },
     "execution_count": 10,
     "metadata": {},
     "output_type": "execute_result"
    }
   ],
   "source": [
    "type(int(10.0))"
   ]
  },
  {
   "cell_type": "code",
   "execution_count": 29,
   "id": "87c4752b-09ba-4d0e-92ce-529c6e158db7",
   "metadata": {},
   "outputs": [],
   "source": [
    "x=[1,2,3,5,6,7,8,8,9,11,10]"
   ]
  },
  {
   "cell_type": "code",
   "execution_count": 14,
   "id": "5f47581d-e807-45ef-a046-e4bfb7408a18",
   "metadata": {},
   "outputs": [
    {
     "data": {
      "text/plain": [
       "[1, 2, 3, 5, 6, 7]"
      ]
     },
     "execution_count": 14,
     "metadata": {},
     "output_type": "execute_result"
    }
   ],
   "source": [
    "x"
   ]
  },
  {
   "cell_type": "code",
   "execution_count": 19,
   "id": "d4a3b247-c684-4dca-b74b-a47e5d2d2468",
   "metadata": {},
   "outputs": [
    {
     "data": {
      "text/plain": [
       "5"
      ]
     },
     "execution_count": 19,
     "metadata": {},
     "output_type": "execute_result"
    }
   ],
   "source": [
    "x[3]   #리스트x의 3번째 값을 알려줘 indexing"
   ]
  },
  {
   "cell_type": "code",
   "execution_count": 21,
   "id": "32d3ed35-5d40-4433-a1a9-0371748c88af",
   "metadata": {},
   "outputs": [
    {
     "data": {
      "text/plain": [
       "[1, 2, 3, 999, 6, 7]"
      ]
     },
     "execution_count": 21,
     "metadata": {},
     "output_type": "execute_result"
    }
   ],
   "source": [
    "x[3] = 999 #x의 3번째 값을 999로바꿈\n",
    "x"
   ]
  },
  {
   "cell_type": "code",
   "execution_count": 22,
   "id": "9ee55454-0adb-44a6-baa7-97bc55f3cca3",
   "metadata": {},
   "outputs": [
    {
     "data": {
      "text/plain": [
       "[999, 6, 7]"
      ]
     },
     "execution_count": 22,
     "metadata": {},
     "output_type": "execute_result"
    }
   ],
   "source": [
    "x[3:6] #:를 붙이면 3의 값부터 6의 값까지 나타냄 slicing ->start:end+1 "
   ]
  },
  {
   "cell_type": "code",
   "execution_count": 25,
   "id": "5040c5d4-39c4-4d50-b273-ad0804128d9e",
   "metadata": {},
   "outputs": [
    {
     "data": {
      "text/plain": [
       "[2, 3, 999, 6, 7]"
      ]
     },
     "execution_count": 25,
     "metadata": {},
     "output_type": "execute_result"
    }
   ],
   "source": [
    "x[1:]"
   ]
  },
  {
   "cell_type": "code",
   "execution_count": 30,
   "id": "5e4c7deb-f55f-4801-a355-d03e7f17e964",
   "metadata": {},
   "outputs": [
    {
     "data": {
      "text/plain": [
       "9"
      ]
     },
     "execution_count": 30,
     "metadata": {},
     "output_type": "execute_result"
    }
   ],
   "source": [
    "x[-3]"
   ]
  },
  {
   "cell_type": "code",
   "execution_count": 31,
   "id": "e4258688-dbea-4e25-9177-32294f156f37",
   "metadata": {},
   "outputs": [
    {
     "data": {
      "text/plain": [
       "[9, 8, 8, 7, 6, 5, 3, 2, 1]"
      ]
     },
     "execution_count": 31,
     "metadata": {},
     "output_type": "execute_result"
    }
   ],
   "source": [
    "x[-3::-1] "
   ]
  },
  {
   "cell_type": "code",
   "execution_count": 38,
   "id": "3db2c619-edee-4fc3-90db-7f9cdc9a26e6",
   "metadata": {},
   "outputs": [],
   "source": [
    "s = 'hello'"
   ]
  },
  {
   "cell_type": "code",
   "execution_count": 39,
   "id": "61266ff2-265c-4313-8fb5-3130a00de3bc",
   "metadata": {},
   "outputs": [
    {
     "data": {
      "text/plain": [
       "'l'"
      ]
     },
     "execution_count": 39,
     "metadata": {},
     "output_type": "execute_result"
    }
   ],
   "source": [
    "s[2]"
   ]
  },
  {
   "cell_type": "code",
   "execution_count": 40,
   "id": "e275c59b-1f4f-4675-a1fa-783949f1a4e2",
   "metadata": {},
   "outputs": [
    {
     "data": {
      "text/plain": [
       "'l'"
      ]
     },
     "execution_count": 40,
     "metadata": {},
     "output_type": "execute_result"
    }
   ],
   "source": [
    "s[-2]"
   ]
  },
  {
   "cell_type": "code",
   "execution_count": 45,
   "id": "ab61d24a-2bbd-40d8-8996-0e86453d8eba",
   "metadata": {},
   "outputs": [],
   "source": [
    "e = {9,8.7,4,4,4,3,2} #중복이 되지 않음 오름차순"
   ]
  },
  {
   "cell_type": "code",
   "execution_count": 46,
   "id": "ba098683-05aa-44ec-97b2-f6747cd23d60",
   "metadata": {},
   "outputs": [
    {
     "data": {
      "text/plain": [
       "{2, 3, 4, 8.7, 9}"
      ]
     },
     "execution_count": 46,
     "metadata": {},
     "output_type": "execute_result"
    }
   ],
   "source": [
    "e"
   ]
  },
  {
   "cell_type": "code",
   "execution_count": 51,
   "id": "8e0096c9-c6d2-4730-9aaa-dec4ab5eb890",
   "metadata": {},
   "outputs": [],
   "source": [
    "list1 = [1,1,1,1,4,2,2]"
   ]
  },
  {
   "cell_type": "code",
   "execution_count": 56,
   "id": "52ea02a1-2ea2-4623-99ff-9b8894827301",
   "metadata": {},
   "outputs": [],
   "source": [
    "list2 = list(set(list1))  #중복값 제거"
   ]
  },
  {
   "cell_type": "code",
   "execution_count": 55,
   "id": "f6d87fff-62ed-49cc-bd23-1174db56cce2",
   "metadata": {},
   "outputs": [
    {
     "data": {
      "text/plain": [
       "[1, 2, 4]"
      ]
     },
     "execution_count": 55,
     "metadata": {},
     "output_type": "execute_result"
    }
   ],
   "source": [
    "list2"
   ]
  },
  {
   "cell_type": "code",
   "execution_count": 57,
   "id": "fcb3d50c-de93-40f0-9f9d-535fdf1d9b74",
   "metadata": {},
   "outputs": [],
   "source": [
    "d = {'key1':123, 'key2':456, 'key4':789}"
   ]
  },
  {
   "cell_type": "code",
   "execution_count": 58,
   "id": "8d4411a9-d5b7-4dea-8629-62c6faf09d5e",
   "metadata": {},
   "outputs": [
    {
     "data": {
      "text/plain": [
       "{'key1': 123, 'key2': 456, 'key4': 789}"
      ]
     },
     "execution_count": 58,
     "metadata": {},
     "output_type": "execute_result"
    }
   ],
   "source": [
    "d"
   ]
  },
  {
   "cell_type": "code",
   "execution_count": 59,
   "id": "07ddb91c-68b1-4b0b-8e71-cbd082d4c58e",
   "metadata": {},
   "outputs": [
    {
     "data": {
      "text/plain": [
       "456"
      ]
     },
     "execution_count": 59,
     "metadata": {},
     "output_type": "execute_result"
    }
   ],
   "source": [
    "d['key2']   #순서는 사용불가"
   ]
  },
  {
   "cell_type": "code",
   "execution_count": 60,
   "id": "79be6ef6-3b17-4b01-9e7e-052ec8059750",
   "metadata": {},
   "outputs": [],
   "source": [
    "d['key1'] = 999"
   ]
  },
  {
   "cell_type": "code",
   "execution_count": 61,
   "id": "2fadd682-0f48-4e8d-a9dc-e90da8a8a315",
   "metadata": {},
   "outputs": [
    {
     "data": {
      "text/plain": [
       "999"
      ]
     },
     "execution_count": 61,
     "metadata": {},
     "output_type": "execute_result"
    }
   ],
   "source": [
    "d['key1']"
   ]
  },
  {
   "cell_type": "code",
   "execution_count": 83,
   "id": "f3dab7dd-0e7a-4fdc-91cc-7eea025b5dda",
   "metadata": {},
   "outputs": [],
   "source": [
    "d = {'AAA':[123,353,513], 'BBB':[151,333,222]}"
   ]
  },
  {
   "cell_type": "code",
   "execution_count": 84,
   "id": "3f143439-481a-4097-b95f-e8146c5da998",
   "metadata": {},
   "outputs": [
    {
     "data": {
      "text/plain": [
       "{'AAA': [123, 353, 513], 'BBB': [151, 333, 222]}"
      ]
     },
     "execution_count": 84,
     "metadata": {},
     "output_type": "execute_result"
    }
   ],
   "source": [
    "d"
   ]
  },
  {
   "cell_type": "code",
   "execution_count": 72,
   "id": "831222fa-5161-49ff-b016-e9a0535f308a",
   "metadata": {},
   "outputs": [
    {
     "data": {
      "text/plain": [
       "True"
      ]
     },
     "execution_count": 72,
     "metadata": {},
     "output_type": "execute_result"
    }
   ],
   "source": [
    "1<3"
   ]
  },
  {
   "cell_type": "code",
   "execution_count": 73,
   "id": "3ba626bc-22b5-4df5-b8bc-68c170a443fe",
   "metadata": {},
   "outputs": [
    {
     "data": {
      "text/plain": [
       "True"
      ]
     },
     "execution_count": 73,
     "metadata": {},
     "output_type": "execute_result"
    }
   ],
   "source": [
    "True==True"
   ]
  },
  {
   "cell_type": "code",
   "execution_count": 86,
   "id": "c0686c7f-8a4a-4b04-a92a-327075192b81",
   "metadata": {},
   "outputs": [
    {
     "name": "stdout",
     "output_type": "stream",
     "text": [
      "hello\n"
     ]
    },
    {
     "data": {
      "text/plain": [
       "NoneType"
      ]
     },
     "execution_count": 86,
     "metadata": {},
     "output_type": "execute_result"
    }
   ],
   "source": [
    "type(print('hello'))  #input은 사람x 컴퓨터 0  output은 사람0 컴퓨터x"
   ]
  },
  {
   "cell_type": "code",
   "execution_count": 87,
   "id": "d510e225-9d6b-49bc-b36a-d8c8a31cb54b",
   "metadata": {},
   "outputs": [
    {
     "data": {
      "text/plain": [
       "builtin_function_or_method"
      ]
     },
     "execution_count": 87,
     "metadata": {},
     "output_type": "execute_result"
    }
   ],
   "source": [
    "type(print)"
   ]
  },
  {
   "cell_type": "code",
   "execution_count": 88,
   "id": "fd097c3e-0806-45e3-ad9d-7e587d411221",
   "metadata": {},
   "outputs": [
    {
     "data": {
      "text/plain": [
       "1"
      ]
     },
     "execution_count": 88,
     "metadata": {},
     "output_type": "execute_result"
    }
   ],
   "source": [
    "5//3"
   ]
  },
  {
   "cell_type": "code",
   "execution_count": 89,
   "id": "7f00edb2-41b5-47d2-bccc-4b6dad0dcba0",
   "metadata": {},
   "outputs": [],
   "source": [
    "A = 'hello, world'"
   ]
  },
  {
   "cell_type": "code",
   "execution_count": 90,
   "id": "c86aa284-54cc-4675-9949-1c0f7f2b3ff8",
   "metadata": {},
   "outputs": [
    {
     "data": {
      "text/plain": [
       "'hello, world'"
      ]
     },
     "execution_count": 90,
     "metadata": {},
     "output_type": "execute_result"
    }
   ],
   "source": [
    "A"
   ]
  },
  {
   "cell_type": "code",
   "execution_count": 91,
   "id": "bd2e4d23-aaa0-4af8-a0fe-1bd7ca8b690d",
   "metadata": {},
   "outputs": [
    {
     "data": {
      "text/plain": [
       "'hellO, wOrld'"
      ]
     },
     "execution_count": 91,
     "metadata": {},
     "output_type": "execute_result"
    }
   ],
   "source": [
    "A.replace('o','O')  #내장함수 대상.함수(매개변수)"
   ]
  },
  {
   "cell_type": "code",
   "execution_count": 95,
   "id": "4814de31-d97d-448a-bdaf-a8027d400f28",
   "metadata": {},
   "outputs": [],
   "source": [
    "B= ['hello', 'world','HI']"
   ]
  },
  {
   "cell_type": "code",
   "execution_count": 98,
   "id": "d94b8781-3650-4e8e-ab46-f64d93130d57",
   "metadata": {},
   "outputs": [
    {
     "data": {
      "text/plain": [
       "'hello-world-HI'"
      ]
     },
     "execution_count": 98,
     "metadata": {},
     "output_type": "execute_result"
    }
   ],
   "source": [
    "'-'.join(B) #복수의 함수를 합침"
   ]
  },
  {
   "cell_type": "code",
   "execution_count": 100,
   "id": "619a5a7f-e03d-4034-bfad-7a9afdf09b77",
   "metadata": {},
   "outputs": [
    {
     "data": {
      "text/plain": [
       "['helloworld', 'HI']"
      ]
     },
     "execution_count": 100,
     "metadata": {},
     "output_type": "execute_result"
    }
   ],
   "source": [
    "'helloworld-HI'.split('-')"
   ]
  },
  {
   "cell_type": "code",
   "execution_count": 101,
   "id": "e7863400-2a4b-41bb-9e6c-295a89c15358",
   "metadata": {},
   "outputs": [],
   "source": [
    "C= 'xoxoxoxoHELLOxoxoxo'"
   ]
  },
  {
   "cell_type": "code",
   "execution_count": 103,
   "id": "29b74c6f-668e-4a68-b989-115b08eea229",
   "metadata": {},
   "outputs": [
    {
     "data": {
      "text/plain": [
       "'HELLO'"
      ]
     },
     "execution_count": 103,
     "metadata": {},
     "output_type": "execute_result"
    }
   ],
   "source": [
    "C.strip('xo') #주어진단어를 없앰"
   ]
  },
  {
   "cell_type": "code",
   "execution_count": 107,
   "id": "d64a935b-3e7b-492a-a70c-21d83a2dacab",
   "metadata": {},
   "outputs": [],
   "source": [
    "C= 'xoxoxo1xoHEOxoLLxoxo'"
   ]
  },
  {
   "cell_type": "code",
   "execution_count": 108,
   "id": "cbd785bb-97c7-4a58-ad03-ed061c9b105a",
   "metadata": {},
   "outputs": [
    {
     "data": {
      "text/plain": [
       "'HEOxoLL'"
      ]
     },
     "execution_count": 108,
     "metadata": {},
     "output_type": "execute_result"
    }
   ],
   "source": [
    "C.strip('x123o') #주어진단어를 없앰"
   ]
  },
  {
   "cell_type": "code",
   "execution_count": 109,
   "id": "e8696241-d212-47c0-8786-c9fd72a1cc02",
   "metadata": {},
   "outputs": [
    {
     "data": {
      "text/plain": [
       "'HEOxoLLxoxo'"
      ]
     },
     "execution_count": 109,
     "metadata": {},
     "output_type": "execute_result"
    }
   ],
   "source": [
    "C.lstrip('x123o') #주어진단어를 없앰"
   ]
  },
  {
   "cell_type": "code",
   "execution_count": 120,
   "id": "99e99277-e0ba-4e9c-b4a0-3702cbfcd3d9",
   "metadata": {},
   "outputs": [
    {
     "name": "stdout",
     "output_type": "stream",
     "text": [
      "Help on built-in function print in module builtins:\n",
      "\n",
      "print(*args, sep=' ', end='\\n', file=None, flush=False)\n",
      "    Prints the values to a stream, or to sys.stdout by default.\n",
      "    \n",
      "    sep\n",
      "      string inserted between values, default a space.\n",
      "    end\n",
      "      string appended after the last value, default a newline.\n",
      "    file\n",
      "      a file-like object (stream); defaults to the current sys.stdout.\n",
      "    flush\n",
      "      whether to forcibly flush the stream.\n",
      "\n"
     ]
    }
   ],
   "source": [
    "help(print)"
   ]
  },
  {
   "cell_type": "code",
   "execution_count": 131,
   "id": "eb906ca5-b63e-4680-8941-ada85b778923",
   "metadata": {},
   "outputs": [
    {
     "name": "stdout",
     "output_type": "stream",
     "text": [
      "hello, python\n"
     ]
    }
   ],
   "source": [
    "print('hello, python')"
   ]
  },
  {
   "cell_type": "code",
   "execution_count": 142,
   "id": "bc1c6d60-da37-4cfd-a201-f950404b418e",
   "metadata": {},
   "outputs": [],
   "source": [
    "x=11\n",
    "y=0"
   ]
  },
  {
   "cell_type": "code",
   "execution_count": 145,
   "id": "1a4978b6-8391-429b-948f-f445398a572a",
   "metadata": {},
   "outputs": [
    {
     "name": "stdout",
     "output_type": "stream",
     "text": [
      "inf\n"
     ]
    }
   ],
   "source": [
    "try:\n",
    "    print(x/y)\n",
    "except ZeroDivisionError :\n",
    "    print('inf')"
   ]
  },
  {
   "cell_type": "code",
   "execution_count": 151,
   "id": "25c1a98a-a3d5-4232-940b-9ee0afef31b3",
   "metadata": {},
   "outputs": [],
   "source": [
    "import re"
   ]
  },
  {
   "cell_type": "code",
   "execution_count": 152,
   "id": "b89eaeb5-89d8-4d48-be0d-03ac8e2692a0",
   "metadata": {},
   "outputs": [],
   "source": [
    "tel = '01012345678'\n",
    "te2 = '010-1234-5678'\n",
    "tel3 = '010.1234.5678'"
   ]
  },
  {
   "cell_type": "code",
   "execution_count": 156,
   "id": "d4e32249-0b72-4231-8ae9-3198a16513cc",
   "metadata": {},
   "outputs": [
    {
     "data": {
      "text/plain": [
       "'01012345678'"
      ]
     },
     "execution_count": 156,
     "metadata": {},
     "output_type": "execute_result"
    }
   ],
   "source": [
    "re.sub('\\D', '',tel3)"
   ]
  },
  {
   "cell_type": "code",
   "execution_count": 155,
   "id": "ebb86398-cc5b-4924-8148-29db35ceaff7",
   "metadata": {},
   "outputs": [],
   "source": [
    "re.search('L', 'hello123&&*')"
   ]
  },
  {
   "cell_type": "code",
   "execution_count": 161,
   "id": "3382f982-dc1c-4a87-af29-c81e58d93e4e",
   "metadata": {},
   "outputs": [],
   "source": [
    "re.match('1234',tel) #첫번째에 있는것만 가능함"
   ]
  },
  {
   "cell_type": "code",
   "execution_count": 160,
   "id": "7250154a-a7b3-4117-9953-faea857d763e",
   "metadata": {},
   "outputs": [
    {
     "data": {
      "text/plain": [
       "<re.Match object; span=(3, 7), match='1234'>"
      ]
     },
     "execution_count": 160,
     "metadata": {},
     "output_type": "execute_result"
    }
   ],
   "source": [
    "re.search('1234',tel)  #일치하는 가장 먼저 글자만 알려줌"
   ]
  },
  {
   "cell_type": "code",
   "execution_count": 163,
   "id": "20bee375-3e5c-4c3c-a346-443dab377f57",
   "metadata": {},
   "outputs": [
    {
     "data": {
      "text/plain": [
       "['1', '1']"
      ]
     },
     "execution_count": 163,
     "metadata": {},
     "output_type": "execute_result"
    }
   ],
   "source": [
    "re.findall('1',tel) #일치하는 모든것을 알려줌"
   ]
  },
  {
   "cell_type": "code",
   "execution_count": null,
   "id": "3c2202ea-a4d7-4b2c-b8a0-9811e8cfb00b",
   "metadata": {},
   "outputs": [],
   "source": []
  }
 ],
 "metadata": {
  "kernelspec": {
   "display_name": "Python 3 (ipykernel)",
   "language": "python",
   "name": "python3"
  },
  "language_info": {
   "codemirror_mode": {
    "name": "ipython",
    "version": 3
   },
   "file_extension": ".py",
   "mimetype": "text/x-python",
   "name": "python",
   "nbconvert_exporter": "python",
   "pygments_lexer": "ipython3",
   "version": "3.11.7"
  }
 },
 "nbformat": 4,
 "nbformat_minor": 5
}
